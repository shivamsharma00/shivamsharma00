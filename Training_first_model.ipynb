{
  "nbformat": 4,
  "nbformat_minor": 0,
  "metadata": {
    "colab": {
      "name": "Training_first_model.ipynb",
      "provenance": [],
      "authorship_tag": "ABX9TyOnvhmXEeHPbGyWwVrwqfTC",
      "include_colab_link": true
    },
    "kernelspec": {
      "name": "python3",
      "display_name": "Python 3"
    },
    "language_info": {
      "name": "python"
    }
  },
  "cells": [
    {
      "cell_type": "markdown",
      "metadata": {
        "id": "view-in-github",
        "colab_type": "text"
      },
      "source": [
        "<a href=\"https://colab.research.google.com/github/shivamsharma00/shivamsharma00/blob/main/Training_first_model.ipynb\" target=\"_parent\"><img src=\"https://colab.research.google.com/assets/colab-badge.svg\" alt=\"Open In Colab\"/></a>"
      ]
    },
    {
      "cell_type": "markdown",
      "source": [
        "Training the first model in tensorflow. We will try to formulate logic for converting celsius to farhenite by Machin Learning Algorithm."
      ],
      "metadata": {
        "id": "eyNjKMUv7o3o"
      }
    },
    {
      "cell_type": "markdown",
      "source": [
        "**Importing the dependencies**\n",
        "\n",
        "First we will import Tensorflow, we will call it by tf.\n",
        "Next we will import numpy as np, it help us to represent our data in lists."
      ],
      "metadata": {
        "id": "TUBDu5E38LVm"
      }
    },
    {
      "cell_type": "code",
      "source": [
        "import tensorflow as tf\n",
        "# tf.logging.set_verbosity(tf.logging.ERROR)\n",
        "\n",
        "import numpy as np"
      ],
      "metadata": {
        "id": "WJsQ6t4V740-"
      },
      "execution_count": 2,
      "outputs": []
    },
    {
      "cell_type": "markdown",
      "source": [
        "**Set up training data**\n",
        "\n",
        "We will set up training data for our model in this part."
      ],
      "metadata": {
        "id": "xP7bb9tx88uv"
      }
    },
    {
      "cell_type": "code",
      "source": [
        "celsius_q    = np.array([-40, -10,  0,  8, 15, 22,  38], dtype=float)\n",
        "fahrenheit_a = np.array([-40,  14, 32, 46, 59, 72, 100], dtype=float)\n",
        "\n",
        "for i,c in enumerate(celsius_q):\n",
        "  print(\"{} degree celsius = {} degree fahrenheit\".format(c, fahrenheit_a[i]))\n"
      ],
      "metadata": {
        "colab": {
          "base_uri": "https://localhost:8080/"
        },
        "id": "xjtBTLpb9wEh",
        "outputId": "6bfc6754-3515-4914-bd24-39e341d3cd0b"
      },
      "execution_count": 3,
      "outputs": [
        {
          "output_type": "stream",
          "name": "stdout",
          "text": [
            "-40.0 degree celsius = -40.0 degree fahrenheit\n",
            "-10.0 degree celsius = 14.0 degree fahrenheit\n",
            "0.0 degree celsius = 32.0 degree fahrenheit\n",
            "8.0 degree celsius = 46.0 degree fahrenheit\n",
            "15.0 degree celsius = 59.0 degree fahrenheit\n",
            "22.0 degree celsius = 72.0 degree fahrenheit\n",
            "38.0 degree celsius = 100.0 degree fahrenheit\n"
          ]
        }
      ]
    },
    {
      "cell_type": "markdown",
      "source": [
        "# **Create the Model**\n",
        "\n",
        "\n",
        "---\n",
        "## Build a layer\n"
      ],
      "metadata": {
        "id": "YHfS0_97_PgO"
      }
    },
    {
      "cell_type": "code",
      "source": [
        "l0 = tf.keras.layers.Dense(units=1, input_shape=[1])"
      ],
      "metadata": {
        "id": "pE2UrDcw_jZK"
      },
      "execution_count": 9,
      "outputs": []
    },
    {
      "cell_type": "markdown",
      "source": [
        "## Assemble layers into the model\n",
        "\n",
        "Once layers are defined, they need to be assembled into a model. THe Sequential model definitions takes a list of layers as arguement, specifying the calculation order from the input to the output.\n",
        "\n",
        "**Note:**\n",
        "layers defined inside the model definition:\n",
        "\n",
        "\n",
        "```\n",
        "model = tf.keras.Sequential([\n",
        "  tf.keras.layers.Dense(units=1, input_shape=[1])\n",
        "])\n",
        "```\n",
        "\n"
      ],
      "metadata": {
        "id": "aAJzZ9PoBKYu"
      }
    },
    {
      "cell_type": "code",
      "source": [
        "model = tf.keras.Sequential([l0])"
      ],
      "metadata": {
        "id": "CH2XXKlhBliu"
      },
      "execution_count": 10,
      "outputs": []
    },
    {
      "cell_type": "markdown",
      "source": [
        "## Compile the model, with loss and optimizer function\n",
        "\n",
        "Loss Function : how far off the predictions \n",
        "Optimizer Function : adjusting internal values in the order to reduce the loss.\n",
        "\n",
        "0.1 is the learning rate."
      ],
      "metadata": {
        "id": "efxoNzE7Ao76"
      }
    },
    {
      "cell_type": "code",
      "source": [
        "model.compile(loss='mean_squared_error',\n",
        "              optimizer=tf.keras.optimizers.Adam(0.1))"
      ],
      "metadata": {
        "id": "2OVCBG8OBCG5"
      },
      "execution_count": 11,
      "outputs": []
    },
    {
      "cell_type": "markdown",
      "source": [
        "## Train the model\n",
        "\n",
        "train the model by calling the fit method."
      ],
      "metadata": {
        "id": "LYn3Q09nChD0"
      }
    },
    {
      "cell_type": "code",
      "source": [
        "history = model.fit(celsius_q, fahrenheit_a, epochs=500, verbose=False)\n",
        "print('Finished training model')"
      ],
      "metadata": {
        "colab": {
          "base_uri": "https://localhost:8080/"
        },
        "id": "bUamW40CCu5K",
        "outputId": "40f3a453-5220-44c3-af28-a972a4c67189"
      },
      "execution_count": 12,
      "outputs": [
        {
          "output_type": "stream",
          "name": "stdout",
          "text": [
            "Finished training model\n"
          ]
        }
      ]
    },
    {
      "cell_type": "markdown",
      "source": [
        "## Display training statistics\n",
        "\n",
        "We will use matplotlib to visualize this."
      ],
      "metadata": {
        "id": "T4NwGXiCDnXr"
      }
    },
    {
      "cell_type": "code",
      "source": [
        "import matplotlib.pyplot as plt\n",
        "plt.xlabel(\"Epoch Number\")\n",
        "plt.ylabel(\"Loss Magnitude\")\n",
        "plt.plot(history.history['loss'])"
      ],
      "metadata": {
        "colab": {
          "base_uri": "https://localhost:8080/",
          "height": 296
        },
        "id": "po6pwMHLD6G1",
        "outputId": "0caa3242-dcc6-42da-e9b2-bb34d0025f41"
      },
      "execution_count": 13,
      "outputs": [
        {
          "output_type": "execute_result",
          "data": {
            "text/plain": [
              "[<matplotlib.lines.Line2D at 0x7f2be189c390>]"
            ]
          },
          "metadata": {},
          "execution_count": 13
        },
        {
          "output_type": "display_data",
          "data": {
            "image/png": "[encoded data removed]",
            "text/plain": [
              "<Figure size 432x288 with 1 Axes>"
            ]
          },
          "metadata": {
            "needs_background": "light"
          }
        }
      ]
    },
    {
      "cell_type": "markdown",
      "source": [
        "## **Use the model to predict values**\n"
      ],
      "metadata": {
        "id": "wW8RXC4fEpR3"
      }
    },
    {
      "cell_type": "code",
      "source": [
        "print(model.predict([100.0]))"
      ],
      "metadata": {
        "colab": {
          "base_uri": "https://localhost:8080/"
        },
        "id": "FgG_VC7SEwwF",
        "outputId": "7bbd8edb-7a8a-4960-9f2b-0591f4e79b39"
      },
      "execution_count": 14,
      "outputs": [
        {
          "output_type": "stream",
          "name": "stdout",
          "text": [
            "[[211.33388]]\n"
          ]
        }
      ]
    }
  ]
}